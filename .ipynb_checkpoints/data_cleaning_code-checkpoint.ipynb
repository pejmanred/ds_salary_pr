{
 "cells": [
  {
   "cell_type": "code",
   "execution_count": 1,
   "metadata": {},
   "outputs": [],
   "source": [
    "import pandas as pd\n",
    "import matplotlib.pyplot as plt\n",
    "import seaborn as sns"
   ]
  },
  {
   "cell_type": "code",
   "execution_count": 2,
   "metadata": {},
   "outputs": [],
   "source": [
    "df=pd.read_csv(\"Salary_cleaned.csv\")"
   ]
  },
  {
   "cell_type": "code",
   "execution_count": 52,
   "metadata": {
    "scrolled": true
   },
   "outputs": [
    {
     "data": {
      "text/html": [
       "<div>\n",
       "<style scoped>\n",
       "    .dataframe tbody tr th:only-of-type {\n",
       "        vertical-align: middle;\n",
       "    }\n",
       "\n",
       "    .dataframe tbody tr th {\n",
       "        vertical-align: top;\n",
       "    }\n",
       "\n",
       "    .dataframe thead th {\n",
       "        text-align: right;\n",
       "    }\n",
       "</style>\n",
       "<table border=\"1\" class=\"dataframe\">\n",
       "  <thead>\n",
       "    <tr style=\"text-align: right;\">\n",
       "      <th></th>\n",
       "      <th>Job_Title</th>\n",
       "      <th>Salary_Estimate</th>\n",
       "      <th>Job_Description</th>\n",
       "      <th>Rating</th>\n",
       "      <th>Company_Name</th>\n",
       "      <th>Location</th>\n",
       "      <th>Headquarters</th>\n",
       "      <th>Size</th>\n",
       "      <th>Founded</th>\n",
       "      <th>Type_of_ownership</th>\n",
       "      <th>...</th>\n",
       "      <th>HeadQuarter_in_jobState</th>\n",
       "      <th>age</th>\n",
       "      <th>python</th>\n",
       "      <th>r_sto</th>\n",
       "      <th>spark</th>\n",
       "      <th>aws</th>\n",
       "      <th>sql</th>\n",
       "      <th>oracle</th>\n",
       "      <th>JobSimp</th>\n",
       "      <th>seniority</th>\n",
       "    </tr>\n",
       "  </thead>\n",
       "  <tbody>\n",
       "    <tr>\n",
       "      <th>0</th>\n",
       "      <td>Data Scientist</td>\n",
       "      <td>['53', '91']</td>\n",
       "      <td>Data Scientist\\nLocation: Albuquerque, NM\\nEdu...</td>\n",
       "      <td>3.8</td>\n",
       "      <td>Tecolote Research\\n3.8</td>\n",
       "      <td>Albuquerque, NM</td>\n",
       "      <td>Goleta, CA</td>\n",
       "      <td>501 to 1000 employees</td>\n",
       "      <td>1973</td>\n",
       "      <td>Company - Private</td>\n",
       "      <td>...</td>\n",
       "      <td>0</td>\n",
       "      <td>47</td>\n",
       "      <td>1</td>\n",
       "      <td>0</td>\n",
       "      <td>0</td>\n",
       "      <td>0</td>\n",
       "      <td>0</td>\n",
       "      <td>0</td>\n",
       "      <td>Data Scientist</td>\n",
       "      <td>na</td>\n",
       "    </tr>\n",
       "    <tr>\n",
       "      <th>1</th>\n",
       "      <td>Healthcare Data Scientist</td>\n",
       "      <td>['63', '112']</td>\n",
       "      <td>What You Will Do:\\n\\nI. General Summary\\n\\nThe...</td>\n",
       "      <td>3.4</td>\n",
       "      <td>University of Maryland Medical System\\n3.4</td>\n",
       "      <td>Linthicum, MD</td>\n",
       "      <td>Baltimore, MD</td>\n",
       "      <td>10000+ employees</td>\n",
       "      <td>1984</td>\n",
       "      <td>Other Organization</td>\n",
       "      <td>...</td>\n",
       "      <td>0</td>\n",
       "      <td>36</td>\n",
       "      <td>1</td>\n",
       "      <td>0</td>\n",
       "      <td>0</td>\n",
       "      <td>0</td>\n",
       "      <td>0</td>\n",
       "      <td>0</td>\n",
       "      <td>Data Scientist</td>\n",
       "      <td>na</td>\n",
       "    </tr>\n",
       "    <tr>\n",
       "      <th>2</th>\n",
       "      <td>Data Scientist</td>\n",
       "      <td>['80', '90']</td>\n",
       "      <td>KnowBe4, Inc. is a high growth information sec...</td>\n",
       "      <td>4.8</td>\n",
       "      <td>KnowBe4\\n4.8</td>\n",
       "      <td>Clearwater, FL</td>\n",
       "      <td>Clearwater, FL</td>\n",
       "      <td>501 to 1000 employees</td>\n",
       "      <td>2010</td>\n",
       "      <td>Company - Private</td>\n",
       "      <td>...</td>\n",
       "      <td>1</td>\n",
       "      <td>10</td>\n",
       "      <td>1</td>\n",
       "      <td>0</td>\n",
       "      <td>1</td>\n",
       "      <td>0</td>\n",
       "      <td>1</td>\n",
       "      <td>0</td>\n",
       "      <td>Data Scientist</td>\n",
       "      <td>na</td>\n",
       "    </tr>\n",
       "    <tr>\n",
       "      <th>3</th>\n",
       "      <td>Data Scientist</td>\n",
       "      <td>['56', '97']</td>\n",
       "      <td>*Organization and Job ID**\\nJob ID: 310709\\n\\n...</td>\n",
       "      <td>3.8</td>\n",
       "      <td>PNNL\\n3.8</td>\n",
       "      <td>Richland, WA</td>\n",
       "      <td>Richland, WA</td>\n",
       "      <td>1001 to 5000 employees</td>\n",
       "      <td>1965</td>\n",
       "      <td>Government</td>\n",
       "      <td>...</td>\n",
       "      <td>1</td>\n",
       "      <td>55</td>\n",
       "      <td>1</td>\n",
       "      <td>0</td>\n",
       "      <td>0</td>\n",
       "      <td>0</td>\n",
       "      <td>0</td>\n",
       "      <td>0</td>\n",
       "      <td>Data Scientist</td>\n",
       "      <td>na</td>\n",
       "    </tr>\n",
       "    <tr>\n",
       "      <th>4</th>\n",
       "      <td>Data Scientist</td>\n",
       "      <td>['86', '143']</td>\n",
       "      <td>Data Scientist\\nAffinity Solutions / Marketing...</td>\n",
       "      <td>2.9</td>\n",
       "      <td>Affinity Solutions\\n2.9</td>\n",
       "      <td>New York, NY</td>\n",
       "      <td>New York, NY</td>\n",
       "      <td>51 to 200 employees</td>\n",
       "      <td>1998</td>\n",
       "      <td>Company - Private</td>\n",
       "      <td>...</td>\n",
       "      <td>1</td>\n",
       "      <td>22</td>\n",
       "      <td>1</td>\n",
       "      <td>0</td>\n",
       "      <td>0</td>\n",
       "      <td>0</td>\n",
       "      <td>1</td>\n",
       "      <td>0</td>\n",
       "      <td>Data Scientist</td>\n",
       "      <td>na</td>\n",
       "    </tr>\n",
       "  </tbody>\n",
       "</table>\n",
       "<p>5 rows × 29 columns</p>\n",
       "</div>"
      ],
      "text/plain": [
       "                   Job_Title Salary_Estimate  \\\n",
       "0             Data Scientist    ['53', '91']   \n",
       "1  Healthcare Data Scientist   ['63', '112']   \n",
       "2             Data Scientist    ['80', '90']   \n",
       "3             Data Scientist    ['56', '97']   \n",
       "4             Data Scientist   ['86', '143']   \n",
       "\n",
       "                                     Job_Description  Rating  \\\n",
       "0  Data Scientist\\nLocation: Albuquerque, NM\\nEdu...     3.8   \n",
       "1  What You Will Do:\\n\\nI. General Summary\\n\\nThe...     3.4   \n",
       "2  KnowBe4, Inc. is a high growth information sec...     4.8   \n",
       "3  *Organization and Job ID**\\nJob ID: 310709\\n\\n...     3.8   \n",
       "4  Data Scientist\\nAffinity Solutions / Marketing...     2.9   \n",
       "\n",
       "                                 Company_Name         Location  \\\n",
       "0                      Tecolote Research\\n3.8  Albuquerque, NM   \n",
       "1  University of Maryland Medical System\\n3.4    Linthicum, MD   \n",
       "2                                KnowBe4\\n4.8   Clearwater, FL   \n",
       "3                                   PNNL\\n3.8     Richland, WA   \n",
       "4                     Affinity Solutions\\n2.9     New York, NY   \n",
       "\n",
       "     Headquarters                    Size  Founded   Type_of_ownership  \\\n",
       "0      Goleta, CA   501 to 1000 employees     1973   Company - Private   \n",
       "1   Baltimore, MD        10000+ employees     1984  Other Organization   \n",
       "2  Clearwater, FL   501 to 1000 employees     2010   Company - Private   \n",
       "3    Richland, WA  1001 to 5000 employees     1965          Government   \n",
       "4    New York, NY     51 to 200 employees     1998   Company - Private   \n",
       "\n",
       "     ...     HeadQuarter_in_jobState age python r_sto  spark  aws  sql oracle  \\\n",
       "0    ...                           0  47      1     0      0    0    0      0   \n",
       "1    ...                           0  36      1     0      0    0    0      0   \n",
       "2    ...                           1  10      1     0      1    0    1      0   \n",
       "3    ...                           1  55      1     0      0    0    0      0   \n",
       "4    ...                           1  22      1     0      0    0    1      0   \n",
       "\n",
       "          JobSimp  seniority  \n",
       "0  Data Scientist         na  \n",
       "1  Data Scientist         na  \n",
       "2  Data Scientist         na  \n",
       "3  Data Scientist         na  \n",
       "4  Data Scientist         na  \n",
       "\n",
       "[5 rows x 29 columns]"
      ]
     },
     "execution_count": 52,
     "metadata": {},
     "output_type": "execute_result"
    }
   ],
   "source": [
    "df.head()"
   ]
  },
  {
   "cell_type": "code",
   "execution_count": 32,
   "metadata": {},
   "outputs": [],
   "source": [
    "def title_change(title):\n",
    "    if \"data scientist\"   in title.lower():\n",
    "        return \"Data Scientist\"\n",
    "    elif \"data engineer\" in title.lower():\n",
    "        return \"Data Engineer\"\n",
    "    elif \"analyst\" in title.lower():\n",
    "        return \"analyst\"\n",
    "    elif \"machine learning\" in title.lower():\n",
    "        return \"ml\"\n",
    "    elif \"director\" in title.lower():\n",
    "        return \"director\"\n",
    "    elif \"manager\" in title.lower():\n",
    "        return \"manager\"\n",
    "    else:\n",
    "        return 'na'\n",
    "    \n",
    "def seniority(title):\n",
    "    if \"sr\" in title.lower() or \"senior\" in title.lower() or\"lead\" in title.lower() or\"principal\" in title.lower():\n",
    "        return \"senior\"\n",
    "    elif 'jr' in title.lower() or 'jr.' in title.lower():\n",
    "        return 'jr'\n",
    "    else:\n",
    "        return 'na'\n",
    "    "
   ]
  },
  {
   "cell_type": "code",
   "execution_count": 33,
   "metadata": {},
   "outputs": [],
   "source": [
    "df['JobSimp']=df['Job_Title'].apply(title_change)"
   ]
  },
  {
   "cell_type": "code",
   "execution_count": 34,
   "metadata": {},
   "outputs": [
    {
     "data": {
      "text/plain": [
       "Data Scientist    279\n",
       "na                184\n",
       "Data Engineer     119\n",
       "analyst           102\n",
       "manager            22\n",
       "ml                 22\n",
       "director           14\n",
       "Name: JobSimp, dtype: int64"
      ]
     },
     "execution_count": 34,
     "metadata": {},
     "output_type": "execute_result"
    }
   ],
   "source": [
    "df.JobSimp.value_counts()\n"
   ]
  },
  {
   "cell_type": "code",
   "execution_count": 38,
   "metadata": {
    "scrolled": true
   },
   "outputs": [],
   "source": [
    "df['seniority']=df['Job_Title'].apply(seniority)"
   ]
  },
  {
   "cell_type": "code",
   "execution_count": 40,
   "metadata": {},
   "outputs": [
    {
     "data": {
      "text/plain": [
       "na        520\n",
       "senior    220\n",
       "jr          2\n",
       "Name: seniority, dtype: int64"
      ]
     },
     "execution_count": 40,
     "metadata": {},
     "output_type": "execute_result"
    }
   ],
   "source": [
    "df.seniority.value_counts()"
   ]
  },
  {
   "cell_type": "code",
   "execution_count": 51,
   "metadata": {
    "scrolled": true
   },
   "outputs": [
    {
     "data": {
      "text/plain": [
       "CA    152\n",
       "MA    103\n",
       "NY     72\n",
       "VA     41\n",
       "IL     40\n",
       "MD     35\n",
       "PA     33\n",
       "TX     28\n",
       "WA     21\n",
       "NC     21\n",
       "NJ     17\n",
       "FL     16\n",
       "OH     14\n",
       "TN     13\n",
       "CO     11\n",
       "DC     11\n",
       "UT     10\n",
       "IN     10\n",
       "WI     10\n",
       "MO      9\n",
       "AZ      9\n",
       "AL      8\n",
       "MI      6\n",
       "GA      6\n",
       "DE      6\n",
       "KY      6\n",
       "IA      5\n",
       "CT      5\n",
       "LA      4\n",
       "NE      4\n",
       "OR      4\n",
       "KS      3\n",
       "NM      3\n",
       "ID      2\n",
       "MN      2\n",
       "RI      1\n",
       "SC      1\n",
       "Name: State, dtype: int64"
      ]
     },
     "execution_count": 51,
     "metadata": {},
     "output_type": "execute_result"
    }
   ],
   "source": [
    "df.State.value_counts()"
   ]
  },
  {
   "cell_type": "code",
   "execution_count": 50,
   "metadata": {},
   "outputs": [],
   "source": [
    "df['State'] = df['State'].apply(lambda x: x.strip() if x.strip().lower() != 'los angeles' else 'CA')"
   ]
  },
  {
   "cell_type": "code",
   "execution_count": 54,
   "metadata": {},
   "outputs": [
    {
     "data": {
      "text/plain": [
       "0      2536\n",
       "1      4783\n",
       "2      3461\n",
       "3      3883\n",
       "4      2728\n",
       "5      3747\n",
       "6      1786\n",
       "7      3804\n",
       "8      1538\n",
       "9      4574\n",
       "10     2757\n",
       "11     3490\n",
       "12     3934\n",
       "13     4897\n",
       "14     3731\n",
       "15     1889\n",
       "16     3639\n",
       "17     4163\n",
       "18     3512\n",
       "19     4397\n",
       "20     2918\n",
       "21     6909\n",
       "22     6408\n",
       "23     2907\n",
       "24     3760\n",
       "25     3698\n",
       "26     4420\n",
       "27     4900\n",
       "28     5015\n",
       "29     3461\n",
       "       ... \n",
       "712    3725\n",
       "713    3776\n",
       "714    2306\n",
       "715    7121\n",
       "716    3911\n",
       "717    2867\n",
       "718    2311\n",
       "719    6175\n",
       "720    3783\n",
       "721    2479\n",
       "722    5338\n",
       "723    3243\n",
       "724    1848\n",
       "725    7361\n",
       "726    3374\n",
       "727    3693\n",
       "728    4613\n",
       "729    4707\n",
       "730    3309\n",
       "731    2752\n",
       "732    3478\n",
       "733    5717\n",
       "734    5016\n",
       "735    3813\n",
       "736    5025\n",
       "737    6162\n",
       "738    6130\n",
       "739    3078\n",
       "740    1642\n",
       "741    3673\n",
       "Name: JobDescrip_len, Length: 742, dtype: int64"
      ]
     },
     "execution_count": 54,
     "metadata": {},
     "output_type": "execute_result"
    }
   ],
   "source": [
    "df['JobDescrip_len']=df.Job_Description.apply(lambda x: len(x))\n",
    "df.JobDescrip_len"
   ]
  },
  {
   "cell_type": "code",
   "execution_count": 58,
   "metadata": {},
   "outputs": [
    {
     "data": {
      "text/plain": [
       "Index(['Job_Title', 'Salary_Estimate', 'Job_Description', 'Rating',\n",
       "       'Company_Name', 'Location', 'Headquarters', 'Size', 'Founded',\n",
       "       'Type_of_ownership', 'Industry', 'Sector', 'Revenue', 'Competitors',\n",
       "       'Min_salary', 'Max_salary', 'avg_salary', 'Company_Title', 'State',\n",
       "       'HeadQuarter_in_jobState', 'age', 'python', 'r_sto', 'spark', 'aws',\n",
       "       'sql', 'oracle', 'JobSimp', 'seniority', 'JobDescrip_len'],\n",
       "      dtype='object')"
      ]
     },
     "execution_count": 58,
     "metadata": {},
     "output_type": "execute_result"
    }
   ],
   "source": [
    "df.columns\n"
   ]
  },
  {
   "cell_type": "code",
   "execution_count": 59,
   "metadata": {},
   "outputs": [
    {
     "data": {
      "text/plain": [
       "165    17\n",
       "197    18\n",
       "210    15\n",
       "240    15\n",
       "246    17\n",
       "337    18\n",
       "409    10\n",
       "492    18\n",
       "618    10\n",
       "666    18\n",
       "Name: Min_salary, dtype: int64"
      ]
     },
     "execution_count": 59,
     "metadata": {},
     "output_type": "execute_result"
    }
   ],
   "source": [
    "df.Min_salary[df.Min_salary <20]"
   ]
  },
  {
   "cell_type": "code",
   "execution_count": 66,
   "metadata": {},
   "outputs": [
    {
     "data": {
      "text/plain": [
       "{'boxes': [<matplotlib.lines.Line2D at 0x204804cc358>],\n",
       " 'caps': [<matplotlib.lines.Line2D at 0x204804ccd68>,\n",
       "  <matplotlib.lines.Line2D at 0x204804de1d0>],\n",
       " 'fliers': [<matplotlib.lines.Line2D at 0x204804dea20>],\n",
       " 'means': [],\n",
       " 'medians': [<matplotlib.lines.Line2D at 0x204804de5f8>],\n",
       " 'whiskers': [<matplotlib.lines.Line2D at 0x204804cc4a8>,\n",
       "  <matplotlib.lines.Line2D at 0x204804cc940>]}"
      ]
     },
     "execution_count": 66,
     "metadata": {},
     "output_type": "execute_result"
    },
    {
     "data": {
      "image/png": "[encoded data removed]",
      "text/plain": [
       "<matplotlib.figure.Figure at 0x20480175198>"
      ]
     },
     "metadata": {},
     "output_type": "display_data"
    }
   ],
   "source": [
    "import matplotlib.pyplot as plt\n",
    "plt.boxplot(df['Min_salary'])\n"
   ]
  },
  {
   "cell_type": "code",
   "execution_count": 67,
   "metadata": {},
   "outputs": [
    {
     "name": "stdout",
     "output_type": "stream",
     "text": [
      "<class 'pandas.core.frame.DataFrame'>\n",
      "RangeIndex: 742 entries, 0 to 741\n",
      "Data columns (total 30 columns):\n",
      "Job_Title                  742 non-null object\n",
      "Salary_Estimate            742 non-null object\n",
      "Job_Description            742 non-null object\n",
      "Rating                     742 non-null float64\n",
      "Company_Name               742 non-null object\n",
      "Location                   742 non-null object\n",
      "Headquarters               742 non-null object\n",
      "Size                       742 non-null object\n",
      "Founded                    742 non-null int64\n",
      "Type_of_ownership          742 non-null object\n",
      "Industry                   742 non-null object\n",
      "Sector                     742 non-null object\n",
      "Revenue                    742 non-null object\n",
      "Competitors                742 non-null object\n",
      "Min_salary                 742 non-null int64\n",
      "Max_salary                 742 non-null int64\n",
      "avg_salary                 742 non-null float64\n",
      "Company_Title              742 non-null object\n",
      "State                      742 non-null object\n",
      "HeadQuarter_in_jobState    742 non-null int64\n",
      "age                        742 non-null int64\n",
      "python                     742 non-null int64\n",
      "r_sto                      742 non-null int64\n",
      "spark                      742 non-null int64\n",
      "aws                        742 non-null int64\n",
      "sql                        742 non-null int64\n",
      "oracle                     742 non-null int64\n",
      "JobSimp                    742 non-null object\n",
      "seniority                  742 non-null object\n",
      "JobDescrip_len             742 non-null int64\n",
      "dtypes: float64(2), int64(12), object(16)\n",
      "memory usage: 174.0+ KB\n"
     ]
    }
   ],
   "source": [
    "df.info()\n"
   ]
  },
  {
   "cell_type": "code",
   "execution_count": 69,
   "metadata": {},
   "outputs": [
    {
     "data": {
      "text/html": [
       "<div>\n",
       "<style scoped>\n",
       "    .dataframe tbody tr th:only-of-type {\n",
       "        vertical-align: middle;\n",
       "    }\n",
       "\n",
       "    .dataframe tbody tr th {\n",
       "        vertical-align: top;\n",
       "    }\n",
       "\n",
       "    .dataframe thead th {\n",
       "        text-align: right;\n",
       "    }\n",
       "</style>\n",
       "<table border=\"1\" class=\"dataframe\">\n",
       "  <thead>\n",
       "    <tr style=\"text-align: right;\">\n",
       "      <th></th>\n",
       "      <th>Rating</th>\n",
       "      <th>Founded</th>\n",
       "      <th>Min_salary</th>\n",
       "      <th>Max_salary</th>\n",
       "      <th>avg_salary</th>\n",
       "      <th>HeadQuarter_in_jobState</th>\n",
       "      <th>age</th>\n",
       "      <th>python</th>\n",
       "      <th>r_sto</th>\n",
       "      <th>spark</th>\n",
       "      <th>aws</th>\n",
       "      <th>sql</th>\n",
       "      <th>oracle</th>\n",
       "      <th>JobDescrip_len</th>\n",
       "    </tr>\n",
       "  </thead>\n",
       "  <tbody>\n",
       "    <tr>\n",
       "      <th>count</th>\n",
       "      <td>742.000000</td>\n",
       "      <td>742.000000</td>\n",
       "      <td>742.000000</td>\n",
       "      <td>742.000000</td>\n",
       "      <td>742.000000</td>\n",
       "      <td>742.000000</td>\n",
       "      <td>742.000000</td>\n",
       "      <td>742.000000</td>\n",
       "      <td>742.000000</td>\n",
       "      <td>742.000000</td>\n",
       "      <td>742.000000</td>\n",
       "      <td>742.000000</td>\n",
       "      <td>742.000000</td>\n",
       "      <td>742.000000</td>\n",
       "    </tr>\n",
       "    <tr>\n",
       "      <th>mean</th>\n",
       "      <td>3.618868</td>\n",
       "      <td>1837.154987</td>\n",
       "      <td>74.068733</td>\n",
       "      <td>127.183288</td>\n",
       "      <td>100.626011</td>\n",
       "      <td>0.557951</td>\n",
       "      <td>46.591644</td>\n",
       "      <td>0.528302</td>\n",
       "      <td>0.002695</td>\n",
       "      <td>0.225067</td>\n",
       "      <td>0.237197</td>\n",
       "      <td>0.512129</td>\n",
       "      <td>0.053908</td>\n",
       "      <td>3869.545822</td>\n",
       "    </tr>\n",
       "    <tr>\n",
       "      <th>std</th>\n",
       "      <td>0.801210</td>\n",
       "      <td>497.183763</td>\n",
       "      <td>31.869282</td>\n",
       "      <td>46.909006</td>\n",
       "      <td>38.855948</td>\n",
       "      <td>0.496965</td>\n",
       "      <td>53.778815</td>\n",
       "      <td>0.499535</td>\n",
       "      <td>0.051882</td>\n",
       "      <td>0.417908</td>\n",
       "      <td>0.425651</td>\n",
       "      <td>0.500190</td>\n",
       "      <td>0.225989</td>\n",
       "      <td>1521.495868</td>\n",
       "    </tr>\n",
       "    <tr>\n",
       "      <th>min</th>\n",
       "      <td>-1.000000</td>\n",
       "      <td>-1.000000</td>\n",
       "      <td>10.000000</td>\n",
       "      <td>16.000000</td>\n",
       "      <td>13.500000</td>\n",
       "      <td>0.000000</td>\n",
       "      <td>-1.000000</td>\n",
       "      <td>0.000000</td>\n",
       "      <td>0.000000</td>\n",
       "      <td>0.000000</td>\n",
       "      <td>0.000000</td>\n",
       "      <td>0.000000</td>\n",
       "      <td>0.000000</td>\n",
       "      <td>407.000000</td>\n",
       "    </tr>\n",
       "    <tr>\n",
       "      <th>25%</th>\n",
       "      <td>3.300000</td>\n",
       "      <td>1939.000000</td>\n",
       "      <td>52.000000</td>\n",
       "      <td>96.000000</td>\n",
       "      <td>73.500000</td>\n",
       "      <td>0.000000</td>\n",
       "      <td>11.000000</td>\n",
       "      <td>0.000000</td>\n",
       "      <td>0.000000</td>\n",
       "      <td>0.000000</td>\n",
       "      <td>0.000000</td>\n",
       "      <td>0.000000</td>\n",
       "      <td>0.000000</td>\n",
       "      <td>2801.000000</td>\n",
       "    </tr>\n",
       "    <tr>\n",
       "      <th>50%</th>\n",
       "      <td>3.700000</td>\n",
       "      <td>1988.000000</td>\n",
       "      <td>69.500000</td>\n",
       "      <td>124.000000</td>\n",
       "      <td>97.500000</td>\n",
       "      <td>1.000000</td>\n",
       "      <td>24.000000</td>\n",
       "      <td>1.000000</td>\n",
       "      <td>0.000000</td>\n",
       "      <td>0.000000</td>\n",
       "      <td>0.000000</td>\n",
       "      <td>1.000000</td>\n",
       "      <td>0.000000</td>\n",
       "      <td>3731.000000</td>\n",
       "    </tr>\n",
       "    <tr>\n",
       "      <th>75%</th>\n",
       "      <td>4.000000</td>\n",
       "      <td>2007.000000</td>\n",
       "      <td>91.000000</td>\n",
       "      <td>155.000000</td>\n",
       "      <td>122.500000</td>\n",
       "      <td>1.000000</td>\n",
       "      <td>59.000000</td>\n",
       "      <td>1.000000</td>\n",
       "      <td>0.000000</td>\n",
       "      <td>0.000000</td>\n",
       "      <td>0.000000</td>\n",
       "      <td>1.000000</td>\n",
       "      <td>0.000000</td>\n",
       "      <td>4740.000000</td>\n",
       "    </tr>\n",
       "    <tr>\n",
       "      <th>max</th>\n",
       "      <td>5.000000</td>\n",
       "      <td>2019.000000</td>\n",
       "      <td>202.000000</td>\n",
       "      <td>306.000000</td>\n",
       "      <td>254.000000</td>\n",
       "      <td>1.000000</td>\n",
       "      <td>276.000000</td>\n",
       "      <td>1.000000</td>\n",
       "      <td>1.000000</td>\n",
       "      <td>1.000000</td>\n",
       "      <td>1.000000</td>\n",
       "      <td>1.000000</td>\n",
       "      <td>1.000000</td>\n",
       "      <td>10051.000000</td>\n",
       "    </tr>\n",
       "  </tbody>\n",
       "</table>\n",
       "</div>"
      ],
      "text/plain": [
       "           Rating      Founded  Min_salary  Max_salary  avg_salary  \\\n",
       "count  742.000000   742.000000  742.000000  742.000000  742.000000   \n",
       "mean     3.618868  1837.154987   74.068733  127.183288  100.626011   \n",
       "std      0.801210   497.183763   31.869282   46.909006   38.855948   \n",
       "min     -1.000000    -1.000000   10.000000   16.000000   13.500000   \n",
       "25%      3.300000  1939.000000   52.000000   96.000000   73.500000   \n",
       "50%      3.700000  1988.000000   69.500000  124.000000   97.500000   \n",
       "75%      4.000000  2007.000000   91.000000  155.000000  122.500000   \n",
       "max      5.000000  2019.000000  202.000000  306.000000  254.000000   \n",
       "\n",
       "       HeadQuarter_in_jobState         age      python       r_sto  \\\n",
       "count               742.000000  742.000000  742.000000  742.000000   \n",
       "mean                  0.557951   46.591644    0.528302    0.002695   \n",
       "std                   0.496965   53.778815    0.499535    0.051882   \n",
       "min                   0.000000   -1.000000    0.000000    0.000000   \n",
       "25%                   0.000000   11.000000    0.000000    0.000000   \n",
       "50%                   1.000000   24.000000    1.000000    0.000000   \n",
       "75%                   1.000000   59.000000    1.000000    0.000000   \n",
       "max                   1.000000  276.000000    1.000000    1.000000   \n",
       "\n",
       "            spark         aws         sql      oracle  JobDescrip_len  \n",
       "count  742.000000  742.000000  742.000000  742.000000      742.000000  \n",
       "mean     0.225067    0.237197    0.512129    0.053908     3869.545822  \n",
       "std      0.417908    0.425651    0.500190    0.225989     1521.495868  \n",
       "min      0.000000    0.000000    0.000000    0.000000      407.000000  \n",
       "25%      0.000000    0.000000    0.000000    0.000000     2801.000000  \n",
       "50%      0.000000    0.000000    1.000000    0.000000     3731.000000  \n",
       "75%      0.000000    0.000000    1.000000    0.000000     4740.000000  \n",
       "max      1.000000    1.000000    1.000000    1.000000    10051.000000  "
      ]
     },
     "execution_count": 69,
     "metadata": {},
     "output_type": "execute_result"
    }
   ],
   "source": [
    "df.describe()\n"
   ]
  },
  {
   "cell_type": "code",
   "execution_count": 77,
   "metadata": {
    "scrolled": true
   },
   "outputs": [
    {
     "data": {
      "text/plain": [
       "<matplotlib.axes._subplots.AxesSubplot at 0x20480715278>"
      ]
     },
     "execution_count": 77,
     "metadata": {},
     "output_type": "execute_result"
    },
    {
     "data": {
      "image/png": "[encoded data removed]",
      "text/plain": [
       "<matplotlib.figure.Figure at 0x204806f08d0>"
      ]
     },
     "metadata": {},
     "output_type": "display_data"
    }
   ],
   "source": [
    "df.JobDescrip_len.hist()"
   ]
  },
  {
   "cell_type": "code",
   "execution_count": 99,
   "metadata": {},
   "outputs": [],
   "source": [
    "import seaborn as sns \n",
    "import numpy as np\n",
    "corr=df[['age','Rating','JobDescrip_len','avg_salary']].corr()\n",
    "mask = np.triu(np.ones_like(corr,dtype=bool))"
   ]
  },
  {
   "cell_type": "code",
   "execution_count": null,
   "metadata": {},
   "outputs": [],
   "source": [
    "cmap= sns.diverging_palette(h_neg=10,h_pos=240,as_cmap=True)\n"
   ]
  },
  {
   "cell_type": "code",
   "execution_count": 101,
   "metadata": {},
   "outputs": [
    {
     "data": {
      "text/plain": [
       "<matplotlib.axes._subplots.AxesSubplot at 0x20480abd320>"
      ]
     },
     "execution_count": 101,
     "metadata": {},
     "output_type": "execute_result"
    },
    {
     "data": {
      "image/png": "[encoded data removed]",
      "text/plain": [
       "<matplotlib.figure.Figure at 0x20481e61940>"
      ]
     },
     "metadata": {},
     "output_type": "display_data"
    }
   ],
   "source": [
    "sns.heatmap(df[['age','Rating','JobDescrip_len','avg_salary']].corr(),mask=mask,center=0,cmap=cmap,linewidths=1,annot=True,fmt='.2f')"
   ]
  },
  {
   "cell_type": "code",
   "execution_count": 102,
   "metadata": {},
   "outputs": [],
   "source": [
    "cols=df.columns\n",
    "num_cols=df._get_numeric_data().columns"
   ]
  },
  {
   "cell_type": "code",
   "execution_count": 110,
   "metadata": {},
   "outputs": [
    {
     "data": {
      "text/plain": [
       "['seniority',\n",
       " 'Company_Name',\n",
       " 'JobSimp',\n",
       " 'Industry',\n",
       " 'Location',\n",
       " 'Size',\n",
       " 'Type_of_ownership',\n",
       " 'State',\n",
       " 'Job_Title',\n",
       " 'Salary_Estimate',\n",
       " 'Sector',\n",
       " 'Competitors',\n",
       " 'Headquarters',\n",
       " 'Job_Description',\n",
       " 'Company_Title',\n",
       " 'Revenue']"
      ]
     },
     "execution_count": 110,
     "metadata": {},
     "output_type": "execute_result"
    }
   ],
   "source": [
    "list(set(cols)-set(num_cols))"
   ]
  },
  {
   "cell_type": "code",
   "execution_count": 107,
   "metadata": {},
   "outputs": [
    {
     "data": {
      "text/plain": [
       "0     501 to 1000 employees\n",
       "1          10000+ employees\n",
       "2     501 to 1000 employees\n",
       "3    1001 to 5000 employees\n",
       "4       51 to 200 employees\n",
       "Name: Size, dtype: object"
      ]
     },
     "execution_count": 107,
     "metadata": {},
     "output_type": "execute_result"
    }
   ],
   "source": [
    "df.Size.head()"
   ]
  },
  {
   "cell_type": "code",
   "execution_count": null,
   "metadata": {},
   "outputs": [],
   "source": [
    "import seaborn as sns \n",
    "chart=sns.barplot(x=df.State.value_counts()[:25].index,y=df.State.value_counts()[:25])\n",
    "chart.set_xticklabels(chart.get_xticklabels(),rotation=45)\n",
    "plt.show()"
   ]
  },
  {
   "cell_type": "code",
   "execution_count": null,
   "metadata": {},
   "outputs": [],
   "source": [
    "pd.set_option('display.max_rows',None)"
   ]
  },
  {
   "cell_type": "code",
   "execution_count": null,
   "metadata": {},
   "outputs": [],
   "source": [
    "import pandas as pd\n",
    "pd.pivot_table(df,index=['State','JobSimp'],values='avg_salary').sort_values('avg_salary',ascending= False)\n"
   ]
  },
  {
   "cell_type": "code",
   "execution_count": null,
   "metadata": {},
   "outputs": [],
   "source": [
    "from wordcloud import WordCloud, ImageColorGenerator,STOPWORDS\n",
    "from nltk.corpus import stopwords\n",
    "from nltk.tokenize import word_tokenize"
   ]
  },
  {
   "cell_type": "code",
   "execution_count": null,
   "metadata": {},
   "outputs": [],
   "source": []
  }
 ],
 "metadata": {
  "kernelspec": {
   "display_name": "Python 3",
   "language": "python",
   "name": "python3"
  },
  "language_info": {
   "codemirror_mode": {
    "name": "ipython",
    "version": 3
   },
   "file_extension": ".py",
   "mimetype": "text/x-python",
   "name": "python",
   "nbconvert_exporter": "python",
   "pygments_lexer": "ipython3",
   "version": "3.6.4"
  }
 },
 "nbformat": 4,
 "nbformat_minor": 2
}
